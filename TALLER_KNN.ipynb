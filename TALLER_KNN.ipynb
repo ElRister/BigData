{
  "nbformat": 4,
  "nbformat_minor": 0,
  "metadata": {
    "colab": {
      "provenance": []
    },
    "kernelspec": {
      "name": "python3",
      "display_name": "Python 3"
    },
    "language_info": {
      "name": "python"
    }
  },
  "cells": [
    {
      "cell_type": "code",
      "execution_count": 657,
      "metadata": {
        "id": "dLk54_6auslN"
      },
      "outputs": [],
      "source": [
        "import pandas as pd\n",
        "import numpy as np\n",
        "import matplotlib.pyplot as plt\n",
        "from sklearn.preprocessing import StandardScaler\n",
        "from sklearn.model_selection import train_test_split\n",
        "from sklearn.neighbors import KNeighborsClassifier\n",
        "from sklearn.metrics import accuracy_score\n",
        "from sklearn.model_selection import GridSearchCV"
      ]
    },
    {
      "cell_type": "code",
      "source": [
        "df = 'BBDD_Hospitalización.xlsx'\n",
        "df = pd.read_excel(df, sheet_name='Datos', header=0)\n"
      ],
      "metadata": {
        "colab": {
          "base_uri": "https://localhost:8080/"
        },
        "id": "02YDsNK_V8-H",
        "outputId": "05411b56-3872-4b76-b536-d9102661dc3a"
      },
      "execution_count": 658,
      "outputs": [
        {
          "output_type": "stream",
          "name": "stderr",
          "text": [
            "/usr/local/lib/python3.10/dist-packages/openpyxl/worksheet/_reader.py:329: UserWarning: Unknown extension is not supported and will be removed\n",
            "  warn(msg)\n"
          ]
        }
      ]
    },
    {
      "cell_type": "markdown",
      "source": [
        "Se aplica un head para tener un vista previa de la base de datos"
      ],
      "metadata": {
        "id": "u2qweENRY5_U"
      }
    },
    {
      "cell_type": "code",
      "source": [
        "df.head(10)"
      ],
      "metadata": {
        "colab": {
          "base_uri": "https://localhost:8080/",
          "height": 608
        },
        "id": "YF73T2EoYrSb",
        "outputId": "edf0e0df-5637-4fb1-fa1e-da9b234cb906"
      },
      "execution_count": 659,
      "outputs": [
        {
          "output_type": "execute_result",
          "data": {
            "text/plain": [
              "   EDAD DIABETES HOSPITALIZACIÓN ULTIMO MES   PSA BIOPSIAS PREVIAS  \\\n",
              "0  53.0       NO                         NO   4.0               NO   \n",
              "1  56.0       NO                         NO   7.7               NO   \n",
              "2  57.0       NO                         NO  29.0               SI   \n",
              "3  56.0       NO                         NO   7.0               NO   \n",
              "4  55.0       NO                         NO  29.0               SI   \n",
              "5  55.0       SI                         SI   4.0               NO   \n",
              "6  53.0       NO                         NO   7.0               NO   \n",
              "7  67.0       NO                         NO   6.2               NO   \n",
              "8  69.0       NO                         NO   6.0               NO   \n",
              "9  44.0       NO                         NO   NaN               NO   \n",
              "\n",
              "  VOLUMEN PROSTATICO ANTIBIOTICO UTILIAZADO EN LA PROFILAXIS  \\\n",
              "0                 SI          FLUOROQUINOLONA_AMINOGLICOSIDO   \n",
              "1                 SI          FLUOROQUINOLONA_AMINOGLICOSIDO   \n",
              "2                 SI          FLUOROQUINOLONA_AMINOGLICOSIDO   \n",
              "3                 SI          FLUOROQUINOLONA_AMINOGLICOSIDO   \n",
              "4                 SI          FLUOROQUINOLONA_AMINOGLICOSIDO   \n",
              "5                 SI          FLUOROQUINOLONA_AMINOGLICOSIDO   \n",
              "6                 SI          FLUOROQUINOLONA_AMINOGLICOSIDO   \n",
              "7                 SI          FLUOROQUINOLONA_AMINOGLICOSIDO   \n",
              "8                 NO          FLUOROQUINOLONA_AMINOGLICOSIDO   \n",
              "9                 NO          FLUOROQUINOLONA_AMINOGLICOSIDO   \n",
              "\n",
              "   NUMERO DE MUESTRAS TOMADAS CUP ENF. CRONICA PULMONAR OBSTRUCTIVA BIOPSIA  \\\n",
              "0                        12.0  NO                                NO     NEG   \n",
              "1                        12.0  NO                                NO     NEG   \n",
              "2                        24.0  NO                                NO     NEG   \n",
              "3                        12.0  NO                                NO     NEG   \n",
              "4                        24.0  NO                                NO     NEG   \n",
              "5                        12.0  NO                                NO     NEG   \n",
              "6                        12.0  NO                                NO     NEG   \n",
              "7                        12.0  NO                                NO     NEG   \n",
              "8                        12.0  NO                                NO     NEG   \n",
              "9                        12.0  NO                                NO     NEG   \n",
              "\n",
              "  NUMERO DE DIAS POST BIOPSIA EN QUE SE PRESENTA LA COMPLICACIÓN INFECCIOSA  \\\n",
              "0                                                  1                          \n",
              "1                                                  1                          \n",
              "2                                                  1                          \n",
              "3                                                  1                          \n",
              "4                                                  1                          \n",
              "5                                                  2                          \n",
              "6                                                  2                          \n",
              "7                                                  2                          \n",
              "8                                                  2                          \n",
              "9                                                  2                          \n",
              "\n",
              "  FIEBRE ITU           TIPO DE CULTIVO AGENTE AISLADO  \\\n",
              "0     SI  NO                        NO             NO   \n",
              "1     SI  NO                        NO             NO   \n",
              "2     SI  NO               HEMOCULTIVO         E.COLI   \n",
              "3     SI  NO                        NO             NO   \n",
              "4     SI  NO               HEMOCULTIVO         E.COLI   \n",
              "5     NO  NO                        NO             NO   \n",
              "6     SI  SI                UROCULTIVO         E.COLI   \n",
              "7     SI  SI  HEMOCULTIVO Y UROCULTIVO         E.COLI   \n",
              "8     SI  NO                        NO             NO   \n",
              "9     SI  NO                        NO             NO   \n",
              "\n",
              "                               PATRON DE RESISTENCIA HOSPITALIZACION  \\\n",
              "0                                                 NO              SI   \n",
              "1                                                 NO              SI   \n",
              "2                AMPI R, CIPRO R, GENTA R, SULFA M R              SI   \n",
              "3                                                 NO              SI   \n",
              "4                                                 NO              SI   \n",
              "5                                                 NO              SI   \n",
              "6                   RESISTENTE A AMPI, CIPRO Y GENTA              SI   \n",
              "7  RESISTENTE A AMPI, SULFA, CEFADROXILO, CEFUROX...              SI   \n",
              "8                                                 NO              SI   \n",
              "9                                                 NO              SI   \n",
              "\n",
              "   DIAS HOSPITALIZACION MQ  DIAS HOSPITALIZACIÓN UPC  \n",
              "0                      2.0                       0.0  \n",
              "1                      5.0                       0.0  \n",
              "2                      4.0                       3.0  \n",
              "3                      5.0                       0.0  \n",
              "4                      4.0                       3.0  \n",
              "5                      3.0                       0.0  \n",
              "6                      3.0                       0.0  \n",
              "7                      2.0                       0.0  \n",
              "8                      4.0                       0.0  \n",
              "9                      3.0                       0.0  "
            ],
            "text/html": [
              "\n",
              "  <div id=\"df-e273557f-42de-4100-9fd4-794f87900cfe\" class=\"colab-df-container\">\n",
              "    <div>\n",
              "<style scoped>\n",
              "    .dataframe tbody tr th:only-of-type {\n",
              "        vertical-align: middle;\n",
              "    }\n",
              "\n",
              "    .dataframe tbody tr th {\n",
              "        vertical-align: top;\n",
              "    }\n",
              "\n",
              "    .dataframe thead th {\n",
              "        text-align: right;\n",
              "    }\n",
              "</style>\n",
              "<table border=\"1\" class=\"dataframe\">\n",
              "  <thead>\n",
              "    <tr style=\"text-align: right;\">\n",
              "      <th></th>\n",
              "      <th>EDAD</th>\n",
              "      <th>DIABETES</th>\n",
              "      <th>HOSPITALIZACIÓN ULTIMO MES</th>\n",
              "      <th>PSA</th>\n",
              "      <th>BIOPSIAS PREVIAS</th>\n",
              "      <th>VOLUMEN PROSTATICO</th>\n",
              "      <th>ANTIBIOTICO UTILIAZADO EN LA PROFILAXIS</th>\n",
              "      <th>NUMERO DE MUESTRAS TOMADAS</th>\n",
              "      <th>CUP</th>\n",
              "      <th>ENF. CRONICA PULMONAR OBSTRUCTIVA</th>\n",
              "      <th>BIOPSIA</th>\n",
              "      <th>NUMERO DE DIAS POST BIOPSIA EN QUE SE PRESENTA LA COMPLICACIÓN INFECCIOSA</th>\n",
              "      <th>FIEBRE</th>\n",
              "      <th>ITU</th>\n",
              "      <th>TIPO DE CULTIVO</th>\n",
              "      <th>AGENTE AISLADO</th>\n",
              "      <th>PATRON DE RESISTENCIA</th>\n",
              "      <th>HOSPITALIZACION</th>\n",
              "      <th>DIAS HOSPITALIZACION MQ</th>\n",
              "      <th>DIAS HOSPITALIZACIÓN UPC</th>\n",
              "    </tr>\n",
              "  </thead>\n",
              "  <tbody>\n",
              "    <tr>\n",
              "      <th>0</th>\n",
              "      <td>53.0</td>\n",
              "      <td>NO</td>\n",
              "      <td>NO</td>\n",
              "      <td>4.0</td>\n",
              "      <td>NO</td>\n",
              "      <td>SI</td>\n",
              "      <td>FLUOROQUINOLONA_AMINOGLICOSIDO</td>\n",
              "      <td>12.0</td>\n",
              "      <td>NO</td>\n",
              "      <td>NO</td>\n",
              "      <td>NEG</td>\n",
              "      <td>1</td>\n",
              "      <td>SI</td>\n",
              "      <td>NO</td>\n",
              "      <td>NO</td>\n",
              "      <td>NO</td>\n",
              "      <td>NO</td>\n",
              "      <td>SI</td>\n",
              "      <td>2.0</td>\n",
              "      <td>0.0</td>\n",
              "    </tr>\n",
              "    <tr>\n",
              "      <th>1</th>\n",
              "      <td>56.0</td>\n",
              "      <td>NO</td>\n",
              "      <td>NO</td>\n",
              "      <td>7.7</td>\n",
              "      <td>NO</td>\n",
              "      <td>SI</td>\n",
              "      <td>FLUOROQUINOLONA_AMINOGLICOSIDO</td>\n",
              "      <td>12.0</td>\n",
              "      <td>NO</td>\n",
              "      <td>NO</td>\n",
              "      <td>NEG</td>\n",
              "      <td>1</td>\n",
              "      <td>SI</td>\n",
              "      <td>NO</td>\n",
              "      <td>NO</td>\n",
              "      <td>NO</td>\n",
              "      <td>NO</td>\n",
              "      <td>SI</td>\n",
              "      <td>5.0</td>\n",
              "      <td>0.0</td>\n",
              "    </tr>\n",
              "    <tr>\n",
              "      <th>2</th>\n",
              "      <td>57.0</td>\n",
              "      <td>NO</td>\n",
              "      <td>NO</td>\n",
              "      <td>29.0</td>\n",
              "      <td>SI</td>\n",
              "      <td>SI</td>\n",
              "      <td>FLUOROQUINOLONA_AMINOGLICOSIDO</td>\n",
              "      <td>24.0</td>\n",
              "      <td>NO</td>\n",
              "      <td>NO</td>\n",
              "      <td>NEG</td>\n",
              "      <td>1</td>\n",
              "      <td>SI</td>\n",
              "      <td>NO</td>\n",
              "      <td>HEMOCULTIVO</td>\n",
              "      <td>E.COLI</td>\n",
              "      <td>AMPI R, CIPRO R, GENTA R, SULFA M R</td>\n",
              "      <td>SI</td>\n",
              "      <td>4.0</td>\n",
              "      <td>3.0</td>\n",
              "    </tr>\n",
              "    <tr>\n",
              "      <th>3</th>\n",
              "      <td>56.0</td>\n",
              "      <td>NO</td>\n",
              "      <td>NO</td>\n",
              "      <td>7.0</td>\n",
              "      <td>NO</td>\n",
              "      <td>SI</td>\n",
              "      <td>FLUOROQUINOLONA_AMINOGLICOSIDO</td>\n",
              "      <td>12.0</td>\n",
              "      <td>NO</td>\n",
              "      <td>NO</td>\n",
              "      <td>NEG</td>\n",
              "      <td>1</td>\n",
              "      <td>SI</td>\n",
              "      <td>NO</td>\n",
              "      <td>NO</td>\n",
              "      <td>NO</td>\n",
              "      <td>NO</td>\n",
              "      <td>SI</td>\n",
              "      <td>5.0</td>\n",
              "      <td>0.0</td>\n",
              "    </tr>\n",
              "    <tr>\n",
              "      <th>4</th>\n",
              "      <td>55.0</td>\n",
              "      <td>NO</td>\n",
              "      <td>NO</td>\n",
              "      <td>29.0</td>\n",
              "      <td>SI</td>\n",
              "      <td>SI</td>\n",
              "      <td>FLUOROQUINOLONA_AMINOGLICOSIDO</td>\n",
              "      <td>24.0</td>\n",
              "      <td>NO</td>\n",
              "      <td>NO</td>\n",
              "      <td>NEG</td>\n",
              "      <td>1</td>\n",
              "      <td>SI</td>\n",
              "      <td>NO</td>\n",
              "      <td>HEMOCULTIVO</td>\n",
              "      <td>E.COLI</td>\n",
              "      <td>NO</td>\n",
              "      <td>SI</td>\n",
              "      <td>4.0</td>\n",
              "      <td>3.0</td>\n",
              "    </tr>\n",
              "    <tr>\n",
              "      <th>5</th>\n",
              "      <td>55.0</td>\n",
              "      <td>SI</td>\n",
              "      <td>SI</td>\n",
              "      <td>4.0</td>\n",
              "      <td>NO</td>\n",
              "      <td>SI</td>\n",
              "      <td>FLUOROQUINOLONA_AMINOGLICOSIDO</td>\n",
              "      <td>12.0</td>\n",
              "      <td>NO</td>\n",
              "      <td>NO</td>\n",
              "      <td>NEG</td>\n",
              "      <td>2</td>\n",
              "      <td>NO</td>\n",
              "      <td>NO</td>\n",
              "      <td>NO</td>\n",
              "      <td>NO</td>\n",
              "      <td>NO</td>\n",
              "      <td>SI</td>\n",
              "      <td>3.0</td>\n",
              "      <td>0.0</td>\n",
              "    </tr>\n",
              "    <tr>\n",
              "      <th>6</th>\n",
              "      <td>53.0</td>\n",
              "      <td>NO</td>\n",
              "      <td>NO</td>\n",
              "      <td>7.0</td>\n",
              "      <td>NO</td>\n",
              "      <td>SI</td>\n",
              "      <td>FLUOROQUINOLONA_AMINOGLICOSIDO</td>\n",
              "      <td>12.0</td>\n",
              "      <td>NO</td>\n",
              "      <td>NO</td>\n",
              "      <td>NEG</td>\n",
              "      <td>2</td>\n",
              "      <td>SI</td>\n",
              "      <td>SI</td>\n",
              "      <td>UROCULTIVO</td>\n",
              "      <td>E.COLI</td>\n",
              "      <td>RESISTENTE A AMPI, CIPRO Y GENTA</td>\n",
              "      <td>SI</td>\n",
              "      <td>3.0</td>\n",
              "      <td>0.0</td>\n",
              "    </tr>\n",
              "    <tr>\n",
              "      <th>7</th>\n",
              "      <td>67.0</td>\n",
              "      <td>NO</td>\n",
              "      <td>NO</td>\n",
              "      <td>6.2</td>\n",
              "      <td>NO</td>\n",
              "      <td>SI</td>\n",
              "      <td>FLUOROQUINOLONA_AMINOGLICOSIDO</td>\n",
              "      <td>12.0</td>\n",
              "      <td>NO</td>\n",
              "      <td>NO</td>\n",
              "      <td>NEG</td>\n",
              "      <td>2</td>\n",
              "      <td>SI</td>\n",
              "      <td>SI</td>\n",
              "      <td>HEMOCULTIVO Y UROCULTIVO</td>\n",
              "      <td>E.COLI</td>\n",
              "      <td>RESISTENTE A AMPI, SULFA, CEFADROXILO, CEFUROX...</td>\n",
              "      <td>SI</td>\n",
              "      <td>2.0</td>\n",
              "      <td>0.0</td>\n",
              "    </tr>\n",
              "    <tr>\n",
              "      <th>8</th>\n",
              "      <td>69.0</td>\n",
              "      <td>NO</td>\n",
              "      <td>NO</td>\n",
              "      <td>6.0</td>\n",
              "      <td>NO</td>\n",
              "      <td>NO</td>\n",
              "      <td>FLUOROQUINOLONA_AMINOGLICOSIDO</td>\n",
              "      <td>12.0</td>\n",
              "      <td>NO</td>\n",
              "      <td>NO</td>\n",
              "      <td>NEG</td>\n",
              "      <td>2</td>\n",
              "      <td>SI</td>\n",
              "      <td>NO</td>\n",
              "      <td>NO</td>\n",
              "      <td>NO</td>\n",
              "      <td>NO</td>\n",
              "      <td>SI</td>\n",
              "      <td>4.0</td>\n",
              "      <td>0.0</td>\n",
              "    </tr>\n",
              "    <tr>\n",
              "      <th>9</th>\n",
              "      <td>44.0</td>\n",
              "      <td>NO</td>\n",
              "      <td>NO</td>\n",
              "      <td>NaN</td>\n",
              "      <td>NO</td>\n",
              "      <td>NO</td>\n",
              "      <td>FLUOROQUINOLONA_AMINOGLICOSIDO</td>\n",
              "      <td>12.0</td>\n",
              "      <td>NO</td>\n",
              "      <td>NO</td>\n",
              "      <td>NEG</td>\n",
              "      <td>2</td>\n",
              "      <td>SI</td>\n",
              "      <td>NO</td>\n",
              "      <td>NO</td>\n",
              "      <td>NO</td>\n",
              "      <td>NO</td>\n",
              "      <td>SI</td>\n",
              "      <td>3.0</td>\n",
              "      <td>0.0</td>\n",
              "    </tr>\n",
              "  </tbody>\n",
              "</table>\n",
              "</div>\n",
              "    <div class=\"colab-df-buttons\">\n",
              "\n",
              "  <div class=\"colab-df-container\">\n",
              "    <button class=\"colab-df-convert\" onclick=\"convertToInteractive('df-e273557f-42de-4100-9fd4-794f87900cfe')\"\n",
              "            title=\"Convert this dataframe to an interactive table.\"\n",
              "            style=\"display:none;\">\n",
              "\n",
              "  <svg xmlns=\"http://www.w3.org/2000/svg\" height=\"24px\" viewBox=\"0 -960 960 960\">\n",
              "    <path d=\"M120-120v-720h720v720H120Zm60-500h600v-160H180v160Zm220 220h160v-160H400v160Zm0 220h160v-160H400v160ZM180-400h160v-160H180v160Zm440 0h160v-160H620v160ZM180-180h160v-160H180v160Zm440 0h160v-160H620v160Z\"/>\n",
              "  </svg>\n",
              "    </button>\n",
              "\n",
              "  <style>\n",
              "    .colab-df-container {\n",
              "      display:flex;\n",
              "      gap: 12px;\n",
              "    }\n",
              "\n",
              "    .colab-df-convert {\n",
              "      background-color: #E8F0FE;\n",
              "      border: none;\n",
              "      border-radius: 50%;\n",
              "      cursor: pointer;\n",
              "      display: none;\n",
              "      fill: #1967D2;\n",
              "      height: 32px;\n",
              "      padding: 0 0 0 0;\n",
              "      width: 32px;\n",
              "    }\n",
              "\n",
              "    .colab-df-convert:hover {\n",
              "      background-color: #E2EBFA;\n",
              "      box-shadow: 0px 1px 2px rgba(60, 64, 67, 0.3), 0px 1px 3px 1px rgba(60, 64, 67, 0.15);\n",
              "      fill: #174EA6;\n",
              "    }\n",
              "\n",
              "    .colab-df-buttons div {\n",
              "      margin-bottom: 4px;\n",
              "    }\n",
              "\n",
              "    [theme=dark] .colab-df-convert {\n",
              "      background-color: #3B4455;\n",
              "      fill: #D2E3FC;\n",
              "    }\n",
              "\n",
              "    [theme=dark] .colab-df-convert:hover {\n",
              "      background-color: #434B5C;\n",
              "      box-shadow: 0px 1px 3px 1px rgba(0, 0, 0, 0.15);\n",
              "      filter: drop-shadow(0px 1px 2px rgba(0, 0, 0, 0.3));\n",
              "      fill: #FFFFFF;\n",
              "    }\n",
              "  </style>\n",
              "\n",
              "    <script>\n",
              "      const buttonEl =\n",
              "        document.querySelector('#df-e273557f-42de-4100-9fd4-794f87900cfe button.colab-df-convert');\n",
              "      buttonEl.style.display =\n",
              "        google.colab.kernel.accessAllowed ? 'block' : 'none';\n",
              "\n",
              "      async function convertToInteractive(key) {\n",
              "        const element = document.querySelector('#df-e273557f-42de-4100-9fd4-794f87900cfe');\n",
              "        const dataTable =\n",
              "          await google.colab.kernel.invokeFunction('convertToInteractive',\n",
              "                                                    [key], {});\n",
              "        if (!dataTable) return;\n",
              "\n",
              "        const docLinkHtml = 'Like what you see? Visit the ' +\n",
              "          '<a target=\"_blank\" href=https://colab.research.google.com/notebooks/data_table.ipynb>data table notebook</a>'\n",
              "          + ' to learn more about interactive tables.';\n",
              "        element.innerHTML = '';\n",
              "        dataTable['output_type'] = 'display_data';\n",
              "        await google.colab.output.renderOutput(dataTable, element);\n",
              "        const docLink = document.createElement('div');\n",
              "        docLink.innerHTML = docLinkHtml;\n",
              "        element.appendChild(docLink);\n",
              "      }\n",
              "    </script>\n",
              "  </div>\n",
              "\n",
              "\n",
              "<div id=\"df-9d4c5a38-ed91-4140-903f-64761a73aa44\">\n",
              "  <button class=\"colab-df-quickchart\" onclick=\"quickchart('df-9d4c5a38-ed91-4140-903f-64761a73aa44')\"\n",
              "            title=\"Suggest charts\"\n",
              "            style=\"display:none;\">\n",
              "\n",
              "<svg xmlns=\"http://www.w3.org/2000/svg\" height=\"24px\"viewBox=\"0 0 24 24\"\n",
              "     width=\"24px\">\n",
              "    <g>\n",
              "        <path d=\"M19 3H5c-1.1 0-2 .9-2 2v14c0 1.1.9 2 2 2h14c1.1 0 2-.9 2-2V5c0-1.1-.9-2-2-2zM9 17H7v-7h2v7zm4 0h-2V7h2v10zm4 0h-2v-4h2v4z\"/>\n",
              "    </g>\n",
              "</svg>\n",
              "  </button>\n",
              "\n",
              "<style>\n",
              "  .colab-df-quickchart {\n",
              "      --bg-color: #E8F0FE;\n",
              "      --fill-color: #1967D2;\n",
              "      --hover-bg-color: #E2EBFA;\n",
              "      --hover-fill-color: #174EA6;\n",
              "      --disabled-fill-color: #AAA;\n",
              "      --disabled-bg-color: #DDD;\n",
              "  }\n",
              "\n",
              "  [theme=dark] .colab-df-quickchart {\n",
              "      --bg-color: #3B4455;\n",
              "      --fill-color: #D2E3FC;\n",
              "      --hover-bg-color: #434B5C;\n",
              "      --hover-fill-color: #FFFFFF;\n",
              "      --disabled-bg-color: #3B4455;\n",
              "      --disabled-fill-color: #666;\n",
              "  }\n",
              "\n",
              "  .colab-df-quickchart {\n",
              "    background-color: var(--bg-color);\n",
              "    border: none;\n",
              "    border-radius: 50%;\n",
              "    cursor: pointer;\n",
              "    display: none;\n",
              "    fill: var(--fill-color);\n",
              "    height: 32px;\n",
              "    padding: 0;\n",
              "    width: 32px;\n",
              "  }\n",
              "\n",
              "  .colab-df-quickchart:hover {\n",
              "    background-color: var(--hover-bg-color);\n",
              "    box-shadow: 0 1px 2px rgba(60, 64, 67, 0.3), 0 1px 3px 1px rgba(60, 64, 67, 0.15);\n",
              "    fill: var(--button-hover-fill-color);\n",
              "  }\n",
              "\n",
              "  .colab-df-quickchart-complete:disabled,\n",
              "  .colab-df-quickchart-complete:disabled:hover {\n",
              "    background-color: var(--disabled-bg-color);\n",
              "    fill: var(--disabled-fill-color);\n",
              "    box-shadow: none;\n",
              "  }\n",
              "\n",
              "  .colab-df-spinner {\n",
              "    border: 2px solid var(--fill-color);\n",
              "    border-color: transparent;\n",
              "    border-bottom-color: var(--fill-color);\n",
              "    animation:\n",
              "      spin 1s steps(1) infinite;\n",
              "  }\n",
              "\n",
              "  @keyframes spin {\n",
              "    0% {\n",
              "      border-color: transparent;\n",
              "      border-bottom-color: var(--fill-color);\n",
              "      border-left-color: var(--fill-color);\n",
              "    }\n",
              "    20% {\n",
              "      border-color: transparent;\n",
              "      border-left-color: var(--fill-color);\n",
              "      border-top-color: var(--fill-color);\n",
              "    }\n",
              "    30% {\n",
              "      border-color: transparent;\n",
              "      border-left-color: var(--fill-color);\n",
              "      border-top-color: var(--fill-color);\n",
              "      border-right-color: var(--fill-color);\n",
              "    }\n",
              "    40% {\n",
              "      border-color: transparent;\n",
              "      border-right-color: var(--fill-color);\n",
              "      border-top-color: var(--fill-color);\n",
              "    }\n",
              "    60% {\n",
              "      border-color: transparent;\n",
              "      border-right-color: var(--fill-color);\n",
              "    }\n",
              "    80% {\n",
              "      border-color: transparent;\n",
              "      border-right-color: var(--fill-color);\n",
              "      border-bottom-color: var(--fill-color);\n",
              "    }\n",
              "    90% {\n",
              "      border-color: transparent;\n",
              "      border-bottom-color: var(--fill-color);\n",
              "    }\n",
              "  }\n",
              "</style>\n",
              "\n",
              "  <script>\n",
              "    async function quickchart(key) {\n",
              "      const quickchartButtonEl =\n",
              "        document.querySelector('#' + key + ' button');\n",
              "      quickchartButtonEl.disabled = true;  // To prevent multiple clicks.\n",
              "      quickchartButtonEl.classList.add('colab-df-spinner');\n",
              "      try {\n",
              "        const charts = await google.colab.kernel.invokeFunction(\n",
              "            'suggestCharts', [key], {});\n",
              "      } catch (error) {\n",
              "        console.error('Error during call to suggestCharts:', error);\n",
              "      }\n",
              "      quickchartButtonEl.classList.remove('colab-df-spinner');\n",
              "      quickchartButtonEl.classList.add('colab-df-quickchart-complete');\n",
              "    }\n",
              "    (() => {\n",
              "      let quickchartButtonEl =\n",
              "        document.querySelector('#df-9d4c5a38-ed91-4140-903f-64761a73aa44 button');\n",
              "      quickchartButtonEl.style.display =\n",
              "        google.colab.kernel.accessAllowed ? 'block' : 'none';\n",
              "    })();\n",
              "  </script>\n",
              "</div>\n",
              "    </div>\n",
              "  </div>\n"
            ],
            "application/vnd.google.colaboratory.intrinsic+json": {
              "type": "dataframe",
              "variable_name": "df",
              "summary": "{\n  \"name\": \"df\",\n  \"rows\": 570,\n  \"fields\": [\n    {\n      \"column\": \"EDAD\",\n      \"properties\": {\n        \"dtype\": \"number\",\n        \"std\": 9.281516861885818,\n        \"min\": 39.0,\n        \"max\": 151.0,\n        \"num_unique_values\": 45,\n        \"samples\": [\n          79.0,\n          81.0,\n          52.0\n        ],\n        \"semantic_type\": \"\",\n        \"description\": \"\"\n      }\n    },\n    {\n      \"column\": \"DIABETES\",\n      \"properties\": {\n        \"dtype\": \"category\",\n        \"num_unique_values\": 2,\n        \"samples\": [\n          \"SI\",\n          \"NO\"\n        ],\n        \"semantic_type\": \"\",\n        \"description\": \"\"\n      }\n    },\n    {\n      \"column\": \"HOSPITALIZACI\\u00d3N ULTIMO MES\",\n      \"properties\": {\n        \"dtype\": \"category\",\n        \"num_unique_values\": 2,\n        \"samples\": [\n          \"SI\",\n          \"NO\"\n        ],\n        \"semantic_type\": \"\",\n        \"description\": \"\"\n      }\n    },\n    {\n      \"column\": \"PSA\",\n      \"properties\": {\n        \"dtype\": \"number\",\n        \"std\": 15.668965763183438,\n        \"min\": 0.6,\n        \"max\": 100.0,\n        \"num_unique_values\": 146,\n        \"samples\": [\n          4.8,\n          20.2\n        ],\n        \"semantic_type\": \"\",\n        \"description\": \"\"\n      }\n    },\n    {\n      \"column\": \"BIOPSIAS PREVIAS\",\n      \"properties\": {\n        \"dtype\": \"category\",\n        \"num_unique_values\": 2,\n        \"samples\": [\n          \"SI\",\n          \"NO\"\n        ],\n        \"semantic_type\": \"\",\n        \"description\": \"\"\n      }\n    },\n    {\n      \"column\": \"VOLUMEN PROSTATICO\",\n      \"properties\": {\n        \"dtype\": \"category\",\n        \"num_unique_values\": 2,\n        \"samples\": [\n          \"NO\",\n          \"SI\"\n        ],\n        \"semantic_type\": \"\",\n        \"description\": \"\"\n      }\n    },\n    {\n      \"column\": \"ANTIBIOTICO UTILIAZADO EN LA PROFILAXIS\",\n      \"properties\": {\n        \"dtype\": \"category\",\n        \"num_unique_values\": 5,\n        \"samples\": [\n          \"CEFALOSPORINA_AMINOGLUCOCIDO\",\n          \"OTROS\"\n        ],\n        \"semantic_type\": \"\",\n        \"description\": \"\"\n      }\n    },\n    {\n      \"column\": \"NUMERO DE MUESTRAS TOMADAS\",\n      \"properties\": {\n        \"dtype\": \"number\",\n        \"std\": 3.9211795362443125,\n        \"min\": 4.0,\n        \"max\": 24.0,\n        \"num_unique_values\": 12,\n        \"samples\": [\n          22.0,\n          15.0\n        ],\n        \"semantic_type\": \"\",\n        \"description\": \"\"\n      }\n    },\n    {\n      \"column\": \"CUP\",\n      \"properties\": {\n        \"dtype\": \"category\",\n        \"num_unique_values\": 2,\n        \"samples\": [\n          \"SI\",\n          \"NO\"\n        ],\n        \"semantic_type\": \"\",\n        \"description\": \"\"\n      }\n    },\n    {\n      \"column\": \"ENF. CRONICA PULMONAR OBSTRUCTIVA\",\n      \"properties\": {\n        \"dtype\": \"category\",\n        \"num_unique_values\": 4,\n        \"samples\": [\n          \"SI, EPOC\",\n          \"SI\"\n        ],\n        \"semantic_type\": \"\",\n        \"description\": \"\"\n      }\n    },\n    {\n      \"column\": \"BIOPSIA\",\n      \"properties\": {\n        \"dtype\": \"category\",\n        \"num_unique_values\": 11,\n        \"samples\": [\n          \"ADENOCARCINOMA GLEASON 9 \",\n          \"NEG\"\n        ],\n        \"semantic_type\": \"\",\n        \"description\": \"\"\n      }\n    },\n    {\n      \"column\": \"NUMERO DE DIAS POST BIOPSIA EN QUE SE PRESENTA LA COMPLICACI\\u00d3N INFECCIOSA\",\n      \"properties\": {\n        \"dtype\": \"category\",\n        \"num_unique_values\": 6,\n        \"samples\": [\n          1,\n          2\n        ],\n        \"semantic_type\": \"\",\n        \"description\": \"\"\n      }\n    },\n    {\n      \"column\": \"FIEBRE\",\n      \"properties\": {\n        \"dtype\": \"category\",\n        \"num_unique_values\": 2,\n        \"samples\": [\n          \"NO\",\n          \"SI\"\n        ],\n        \"semantic_type\": \"\",\n        \"description\": \"\"\n      }\n    },\n    {\n      \"column\": \"ITU\",\n      \"properties\": {\n        \"dtype\": \"category\",\n        \"num_unique_values\": 2,\n        \"samples\": [\n          \"SI\",\n          \"NO\"\n        ],\n        \"semantic_type\": \"\",\n        \"description\": \"\"\n      }\n    },\n    {\n      \"column\": \"TIPO DE CULTIVO\",\n      \"properties\": {\n        \"dtype\": \"category\",\n        \"num_unique_values\": 4,\n        \"samples\": [\n          \"HEMOCULTIVO\",\n          \"HEMOCULTIVO Y UROCULTIVO\"\n        ],\n        \"semantic_type\": \"\",\n        \"description\": \"\"\n      }\n    },\n    {\n      \"column\": \"AGENTE AISLADO\",\n      \"properties\": {\n        \"dtype\": \"category\",\n        \"num_unique_values\": 3,\n        \"samples\": [\n          \"NO\",\n          \"E.COLI\"\n        ],\n        \"semantic_type\": \"\",\n        \"description\": \"\"\n      }\n    },\n    {\n      \"column\": \"PATRON DE RESISTENCIA\",\n      \"properties\": {\n        \"dtype\": \"category\",\n        \"num_unique_values\": 5,\n        \"samples\": [\n          \" AMPI R, CIPRO R, GENTA R, SULFA M R\",\n          \"MULTI SENSIBLE\"\n        ],\n        \"semantic_type\": \"\",\n        \"description\": \"\"\n      }\n    },\n    {\n      \"column\": \"HOSPITALIZACION\",\n      \"properties\": {\n        \"dtype\": \"category\",\n        \"num_unique_values\": 2,\n        \"samples\": [\n          \"NO\",\n          \"SI\"\n        ],\n        \"semantic_type\": \"\",\n        \"description\": \"\"\n      }\n    },\n    {\n      \"column\": \"DIAS HOSPITALIZACION MQ\",\n      \"properties\": {\n        \"dtype\": \"number\",\n        \"std\": 0.9580657891751009,\n        \"min\": 0.0,\n        \"max\": 12.0,\n        \"num_unique_values\": 6,\n        \"samples\": [\n          2.0,\n          5.0\n        ],\n        \"semantic_type\": \"\",\n        \"description\": \"\"\n      }\n    },\n    {\n      \"column\": \"DIAS HOSPITALIZACI\\u00d3N UPC\",\n      \"properties\": {\n        \"dtype\": \"number\",\n        \"std\": 0.19647387170805714,\n        \"min\": 0.0,\n        \"max\": 3.0,\n        \"num_unique_values\": 3,\n        \"samples\": [\n          0.0,\n          3.0\n        ],\n        \"semantic_type\": \"\",\n        \"description\": \"\"\n      }\n    }\n  ]\n}"
            }
          },
          "metadata": {},
          "execution_count": 659
        }
      ]
    },
    {
      "cell_type": "markdown",
      "source": [
        "Se usa un describe para ver un resumen estadistico de la base de datos."
      ],
      "metadata": {
        "id": "gLZhjNCXaH3U"
      }
    },
    {
      "cell_type": "code",
      "source": [
        "df.describe()"
      ],
      "metadata": {
        "colab": {
          "base_uri": "https://localhost:8080/",
          "height": 300
        },
        "id": "bT04lYEeZDtO",
        "outputId": "09976f6a-ded8-40b1-c9ca-37ee9ce00ea7"
      },
      "execution_count": 660,
      "outputs": [
        {
          "output_type": "execute_result",
          "data": {
            "text/plain": [
              "             EDAD         PSA  NUMERO DE MUESTRAS TOMADAS  \\\n",
              "count  568.000000  564.000000                  568.000000   \n",
              "mean    63.882042   13.271401                   12.996479   \n",
              "std      9.281517   15.668966                    3.921180   \n",
              "min     39.000000    0.600000                    4.000000   \n",
              "25%     59.000000    5.600000                   12.000000   \n",
              "50%     64.000000    8.000000                   12.000000   \n",
              "75%     69.000000   15.000000                   12.000000   \n",
              "max    151.000000  100.000000                   24.000000   \n",
              "\n",
              "       DIAS HOSPITALIZACION MQ  DIAS HOSPITALIZACIÓN UPC  \n",
              "count               568.000000                568.000000  \n",
              "mean                  0.165493                  0.014085  \n",
              "std                   0.958066                  0.196474  \n",
              "min                   0.000000                  0.000000  \n",
              "25%                   0.000000                  0.000000  \n",
              "50%                   0.000000                  0.000000  \n",
              "75%                   0.000000                  0.000000  \n",
              "max                  12.000000                  3.000000  "
            ],
            "text/html": [
              "\n",
              "  <div id=\"df-91a67858-8753-4bd5-beb2-f431e118eba2\" class=\"colab-df-container\">\n",
              "    <div>\n",
              "<style scoped>\n",
              "    .dataframe tbody tr th:only-of-type {\n",
              "        vertical-align: middle;\n",
              "    }\n",
              "\n",
              "    .dataframe tbody tr th {\n",
              "        vertical-align: top;\n",
              "    }\n",
              "\n",
              "    .dataframe thead th {\n",
              "        text-align: right;\n",
              "    }\n",
              "</style>\n",
              "<table border=\"1\" class=\"dataframe\">\n",
              "  <thead>\n",
              "    <tr style=\"text-align: right;\">\n",
              "      <th></th>\n",
              "      <th>EDAD</th>\n",
              "      <th>PSA</th>\n",
              "      <th>NUMERO DE MUESTRAS TOMADAS</th>\n",
              "      <th>DIAS HOSPITALIZACION MQ</th>\n",
              "      <th>DIAS HOSPITALIZACIÓN UPC</th>\n",
              "    </tr>\n",
              "  </thead>\n",
              "  <tbody>\n",
              "    <tr>\n",
              "      <th>count</th>\n",
              "      <td>568.000000</td>\n",
              "      <td>564.000000</td>\n",
              "      <td>568.000000</td>\n",
              "      <td>568.000000</td>\n",
              "      <td>568.000000</td>\n",
              "    </tr>\n",
              "    <tr>\n",
              "      <th>mean</th>\n",
              "      <td>63.882042</td>\n",
              "      <td>13.271401</td>\n",
              "      <td>12.996479</td>\n",
              "      <td>0.165493</td>\n",
              "      <td>0.014085</td>\n",
              "    </tr>\n",
              "    <tr>\n",
              "      <th>std</th>\n",
              "      <td>9.281517</td>\n",
              "      <td>15.668966</td>\n",
              "      <td>3.921180</td>\n",
              "      <td>0.958066</td>\n",
              "      <td>0.196474</td>\n",
              "    </tr>\n",
              "    <tr>\n",
              "      <th>min</th>\n",
              "      <td>39.000000</td>\n",
              "      <td>0.600000</td>\n",
              "      <td>4.000000</td>\n",
              "      <td>0.000000</td>\n",
              "      <td>0.000000</td>\n",
              "    </tr>\n",
              "    <tr>\n",
              "      <th>25%</th>\n",
              "      <td>59.000000</td>\n",
              "      <td>5.600000</td>\n",
              "      <td>12.000000</td>\n",
              "      <td>0.000000</td>\n",
              "      <td>0.000000</td>\n",
              "    </tr>\n",
              "    <tr>\n",
              "      <th>50%</th>\n",
              "      <td>64.000000</td>\n",
              "      <td>8.000000</td>\n",
              "      <td>12.000000</td>\n",
              "      <td>0.000000</td>\n",
              "      <td>0.000000</td>\n",
              "    </tr>\n",
              "    <tr>\n",
              "      <th>75%</th>\n",
              "      <td>69.000000</td>\n",
              "      <td>15.000000</td>\n",
              "      <td>12.000000</td>\n",
              "      <td>0.000000</td>\n",
              "      <td>0.000000</td>\n",
              "    </tr>\n",
              "    <tr>\n",
              "      <th>max</th>\n",
              "      <td>151.000000</td>\n",
              "      <td>100.000000</td>\n",
              "      <td>24.000000</td>\n",
              "      <td>12.000000</td>\n",
              "      <td>3.000000</td>\n",
              "    </tr>\n",
              "  </tbody>\n",
              "</table>\n",
              "</div>\n",
              "    <div class=\"colab-df-buttons\">\n",
              "\n",
              "  <div class=\"colab-df-container\">\n",
              "    <button class=\"colab-df-convert\" onclick=\"convertToInteractive('df-91a67858-8753-4bd5-beb2-f431e118eba2')\"\n",
              "            title=\"Convert this dataframe to an interactive table.\"\n",
              "            style=\"display:none;\">\n",
              "\n",
              "  <svg xmlns=\"http://www.w3.org/2000/svg\" height=\"24px\" viewBox=\"0 -960 960 960\">\n",
              "    <path d=\"M120-120v-720h720v720H120Zm60-500h600v-160H180v160Zm220 220h160v-160H400v160Zm0 220h160v-160H400v160ZM180-400h160v-160H180v160Zm440 0h160v-160H620v160ZM180-180h160v-160H180v160Zm440 0h160v-160H620v160Z\"/>\n",
              "  </svg>\n",
              "    </button>\n",
              "\n",
              "  <style>\n",
              "    .colab-df-container {\n",
              "      display:flex;\n",
              "      gap: 12px;\n",
              "    }\n",
              "\n",
              "    .colab-df-convert {\n",
              "      background-color: #E8F0FE;\n",
              "      border: none;\n",
              "      border-radius: 50%;\n",
              "      cursor: pointer;\n",
              "      display: none;\n",
              "      fill: #1967D2;\n",
              "      height: 32px;\n",
              "      padding: 0 0 0 0;\n",
              "      width: 32px;\n",
              "    }\n",
              "\n",
              "    .colab-df-convert:hover {\n",
              "      background-color: #E2EBFA;\n",
              "      box-shadow: 0px 1px 2px rgba(60, 64, 67, 0.3), 0px 1px 3px 1px rgba(60, 64, 67, 0.15);\n",
              "      fill: #174EA6;\n",
              "    }\n",
              "\n",
              "    .colab-df-buttons div {\n",
              "      margin-bottom: 4px;\n",
              "    }\n",
              "\n",
              "    [theme=dark] .colab-df-convert {\n",
              "      background-color: #3B4455;\n",
              "      fill: #D2E3FC;\n",
              "    }\n",
              "\n",
              "    [theme=dark] .colab-df-convert:hover {\n",
              "      background-color: #434B5C;\n",
              "      box-shadow: 0px 1px 3px 1px rgba(0, 0, 0, 0.15);\n",
              "      filter: drop-shadow(0px 1px 2px rgba(0, 0, 0, 0.3));\n",
              "      fill: #FFFFFF;\n",
              "    }\n",
              "  </style>\n",
              "\n",
              "    <script>\n",
              "      const buttonEl =\n",
              "        document.querySelector('#df-91a67858-8753-4bd5-beb2-f431e118eba2 button.colab-df-convert');\n",
              "      buttonEl.style.display =\n",
              "        google.colab.kernel.accessAllowed ? 'block' : 'none';\n",
              "\n",
              "      async function convertToInteractive(key) {\n",
              "        const element = document.querySelector('#df-91a67858-8753-4bd5-beb2-f431e118eba2');\n",
              "        const dataTable =\n",
              "          await google.colab.kernel.invokeFunction('convertToInteractive',\n",
              "                                                    [key], {});\n",
              "        if (!dataTable) return;\n",
              "\n",
              "        const docLinkHtml = 'Like what you see? Visit the ' +\n",
              "          '<a target=\"_blank\" href=https://colab.research.google.com/notebooks/data_table.ipynb>data table notebook</a>'\n",
              "          + ' to learn more about interactive tables.';\n",
              "        element.innerHTML = '';\n",
              "        dataTable['output_type'] = 'display_data';\n",
              "        await google.colab.output.renderOutput(dataTable, element);\n",
              "        const docLink = document.createElement('div');\n",
              "        docLink.innerHTML = docLinkHtml;\n",
              "        element.appendChild(docLink);\n",
              "      }\n",
              "    </script>\n",
              "  </div>\n",
              "\n",
              "\n",
              "<div id=\"df-abc00f14-9528-4c69-b412-002393a6cff5\">\n",
              "  <button class=\"colab-df-quickchart\" onclick=\"quickchart('df-abc00f14-9528-4c69-b412-002393a6cff5')\"\n",
              "            title=\"Suggest charts\"\n",
              "            style=\"display:none;\">\n",
              "\n",
              "<svg xmlns=\"http://www.w3.org/2000/svg\" height=\"24px\"viewBox=\"0 0 24 24\"\n",
              "     width=\"24px\">\n",
              "    <g>\n",
              "        <path d=\"M19 3H5c-1.1 0-2 .9-2 2v14c0 1.1.9 2 2 2h14c1.1 0 2-.9 2-2V5c0-1.1-.9-2-2-2zM9 17H7v-7h2v7zm4 0h-2V7h2v10zm4 0h-2v-4h2v4z\"/>\n",
              "    </g>\n",
              "</svg>\n",
              "  </button>\n",
              "\n",
              "<style>\n",
              "  .colab-df-quickchart {\n",
              "      --bg-color: #E8F0FE;\n",
              "      --fill-color: #1967D2;\n",
              "      --hover-bg-color: #E2EBFA;\n",
              "      --hover-fill-color: #174EA6;\n",
              "      --disabled-fill-color: #AAA;\n",
              "      --disabled-bg-color: #DDD;\n",
              "  }\n",
              "\n",
              "  [theme=dark] .colab-df-quickchart {\n",
              "      --bg-color: #3B4455;\n",
              "      --fill-color: #D2E3FC;\n",
              "      --hover-bg-color: #434B5C;\n",
              "      --hover-fill-color: #FFFFFF;\n",
              "      --disabled-bg-color: #3B4455;\n",
              "      --disabled-fill-color: #666;\n",
              "  }\n",
              "\n",
              "  .colab-df-quickchart {\n",
              "    background-color: var(--bg-color);\n",
              "    border: none;\n",
              "    border-radius: 50%;\n",
              "    cursor: pointer;\n",
              "    display: none;\n",
              "    fill: var(--fill-color);\n",
              "    height: 32px;\n",
              "    padding: 0;\n",
              "    width: 32px;\n",
              "  }\n",
              "\n",
              "  .colab-df-quickchart:hover {\n",
              "    background-color: var(--hover-bg-color);\n",
              "    box-shadow: 0 1px 2px rgba(60, 64, 67, 0.3), 0 1px 3px 1px rgba(60, 64, 67, 0.15);\n",
              "    fill: var(--button-hover-fill-color);\n",
              "  }\n",
              "\n",
              "  .colab-df-quickchart-complete:disabled,\n",
              "  .colab-df-quickchart-complete:disabled:hover {\n",
              "    background-color: var(--disabled-bg-color);\n",
              "    fill: var(--disabled-fill-color);\n",
              "    box-shadow: none;\n",
              "  }\n",
              "\n",
              "  .colab-df-spinner {\n",
              "    border: 2px solid var(--fill-color);\n",
              "    border-color: transparent;\n",
              "    border-bottom-color: var(--fill-color);\n",
              "    animation:\n",
              "      spin 1s steps(1) infinite;\n",
              "  }\n",
              "\n",
              "  @keyframes spin {\n",
              "    0% {\n",
              "      border-color: transparent;\n",
              "      border-bottom-color: var(--fill-color);\n",
              "      border-left-color: var(--fill-color);\n",
              "    }\n",
              "    20% {\n",
              "      border-color: transparent;\n",
              "      border-left-color: var(--fill-color);\n",
              "      border-top-color: var(--fill-color);\n",
              "    }\n",
              "    30% {\n",
              "      border-color: transparent;\n",
              "      border-left-color: var(--fill-color);\n",
              "      border-top-color: var(--fill-color);\n",
              "      border-right-color: var(--fill-color);\n",
              "    }\n",
              "    40% {\n",
              "      border-color: transparent;\n",
              "      border-right-color: var(--fill-color);\n",
              "      border-top-color: var(--fill-color);\n",
              "    }\n",
              "    60% {\n",
              "      border-color: transparent;\n",
              "      border-right-color: var(--fill-color);\n",
              "    }\n",
              "    80% {\n",
              "      border-color: transparent;\n",
              "      border-right-color: var(--fill-color);\n",
              "      border-bottom-color: var(--fill-color);\n",
              "    }\n",
              "    90% {\n",
              "      border-color: transparent;\n",
              "      border-bottom-color: var(--fill-color);\n",
              "    }\n",
              "  }\n",
              "</style>\n",
              "\n",
              "  <script>\n",
              "    async function quickchart(key) {\n",
              "      const quickchartButtonEl =\n",
              "        document.querySelector('#' + key + ' button');\n",
              "      quickchartButtonEl.disabled = true;  // To prevent multiple clicks.\n",
              "      quickchartButtonEl.classList.add('colab-df-spinner');\n",
              "      try {\n",
              "        const charts = await google.colab.kernel.invokeFunction(\n",
              "            'suggestCharts', [key], {});\n",
              "      } catch (error) {\n",
              "        console.error('Error during call to suggestCharts:', error);\n",
              "      }\n",
              "      quickchartButtonEl.classList.remove('colab-df-spinner');\n",
              "      quickchartButtonEl.classList.add('colab-df-quickchart-complete');\n",
              "    }\n",
              "    (() => {\n",
              "      let quickchartButtonEl =\n",
              "        document.querySelector('#df-abc00f14-9528-4c69-b412-002393a6cff5 button');\n",
              "      quickchartButtonEl.style.display =\n",
              "        google.colab.kernel.accessAllowed ? 'block' : 'none';\n",
              "    })();\n",
              "  </script>\n",
              "</div>\n",
              "    </div>\n",
              "  </div>\n"
            ],
            "application/vnd.google.colaboratory.intrinsic+json": {
              "type": "dataframe",
              "summary": "{\n  \"name\": \"df\",\n  \"rows\": 8,\n  \"fields\": [\n    {\n      \"column\": \"EDAD\",\n      \"properties\": {\n        \"dtype\": \"number\",\n        \"std\": 182.28435529218973,\n        \"min\": 9.281516861885818,\n        \"max\": 568.0,\n        \"num_unique_values\": 8,\n        \"samples\": [\n          63.88204225352113,\n          64.0,\n          568.0\n        ],\n        \"semantic_type\": \"\",\n        \"description\": \"\"\n      }\n    },\n    {\n      \"column\": \"PSA\",\n      \"properties\": {\n        \"dtype\": \"number\",\n        \"std\": 194.07381804493153,\n        \"min\": 0.6,\n        \"max\": 564.0,\n        \"num_unique_values\": 8,\n        \"samples\": [\n          13.271400709219858,\n          8.0,\n          564.0\n        ],\n        \"semantic_type\": \"\",\n        \"description\": \"\"\n      }\n    },\n    {\n      \"column\": \"NUMERO DE MUESTRAS TOMADAS\",\n      \"properties\": {\n        \"dtype\": \"number\",\n        \"std\": 196.8304267229616,\n        \"min\": 3.9211795362443125,\n        \"max\": 568.0,\n        \"num_unique_values\": 6,\n        \"samples\": [\n          568.0,\n          12.996478873239436,\n          24.0\n        ],\n        \"semantic_type\": \"\",\n        \"description\": \"\"\n      }\n    },\n    {\n      \"column\": \"DIAS HOSPITALIZACION MQ\",\n      \"properties\": {\n        \"dtype\": \"number\",\n        \"std\": 200.1984270887403,\n        \"min\": 0.0,\n        \"max\": 568.0,\n        \"num_unique_values\": 5,\n        \"samples\": [\n          0.16549295774647887,\n          12.0,\n          0.9580657891751009\n        ],\n        \"semantic_type\": \"\",\n        \"description\": \"\"\n      }\n    },\n    {\n      \"column\": \"DIAS HOSPITALIZACI\\u00d3N UPC\",\n      \"properties\": {\n        \"dtype\": \"number\",\n        \"std\": 200.65886155716947,\n        \"min\": 0.0,\n        \"max\": 568.0,\n        \"num_unique_values\": 5,\n        \"samples\": [\n          0.014084507042253521,\n          3.0,\n          0.19647387170805714\n        ],\n        \"semantic_type\": \"\",\n        \"description\": \"\"\n      }\n    }\n  ]\n}"
            }
          },
          "metadata": {},
          "execution_count": 660
        }
      ]
    },
    {
      "cell_type": "markdown",
      "source": [
        "Se crea un punto info para ver las columnas y él tipo de datos"
      ],
      "metadata": {
        "id": "HHDybSkaaaF_"
      }
    },
    {
      "cell_type": "code",
      "source": [
        "df.info()"
      ],
      "metadata": {
        "colab": {
          "base_uri": "https://localhost:8080/"
        },
        "id": "HbMeOlu6aU0-",
        "outputId": "199ef573-5842-4e93-b515-7db9b3a36f7f"
      },
      "execution_count": 661,
      "outputs": [
        {
          "output_type": "stream",
          "name": "stdout",
          "text": [
            "<class 'pandas.core.frame.DataFrame'>\n",
            "RangeIndex: 570 entries, 0 to 569\n",
            "Data columns (total 20 columns):\n",
            " #   Column                                                                     Non-Null Count  Dtype  \n",
            "---  ------                                                                     --------------  -----  \n",
            " 0   EDAD                                                                       568 non-null    float64\n",
            " 1   DIABETES                                                                   568 non-null    object \n",
            " 2   HOSPITALIZACIÓN ULTIMO MES                                                 568 non-null    object \n",
            " 3   PSA                                                                        564 non-null    float64\n",
            " 4   BIOPSIAS PREVIAS                                                           566 non-null    object \n",
            " 5   VOLUMEN PROSTATICO                                                         567 non-null    object \n",
            " 6   ANTIBIOTICO UTILIAZADO EN LA PROFILAXIS                                    568 non-null    object \n",
            " 7   NUMERO DE MUESTRAS TOMADAS                                                 568 non-null    float64\n",
            " 8   CUP                                                                        567 non-null    object \n",
            " 9   ENF. CRONICA PULMONAR OBSTRUCTIVA                                          566 non-null    object \n",
            " 10  BIOPSIA                                                                    568 non-null    object \n",
            " 11  NUMERO DE DIAS POST BIOPSIA EN QUE SE PRESENTA LA COMPLICACIÓN INFECCIOSA  568 non-null    object \n",
            " 12  FIEBRE                                                                     568 non-null    object \n",
            " 13  ITU                                                                        568 non-null    object \n",
            " 14  TIPO DE CULTIVO                                                            568 non-null    object \n",
            " 15  AGENTE AISLADO                                                             551 non-null    object \n",
            " 16  PATRON DE RESISTENCIA                                                      568 non-null    object \n",
            " 17  HOSPITALIZACION                                                            565 non-null    object \n",
            " 18  DIAS HOSPITALIZACION MQ                                                    568 non-null    float64\n",
            " 19  DIAS HOSPITALIZACIÓN UPC                                                   568 non-null    float64\n",
            "dtypes: float64(5), object(15)\n",
            "memory usage: 89.2+ KB\n"
          ]
        }
      ]
    },
    {
      "cell_type": "markdown",
      "source": [
        "Graficas"
      ],
      "metadata": {
        "id": "mVh6DP1p5w6u"
      }
    },
    {
      "cell_type": "markdown",
      "source": [
        "Se realizo una gráfica de dispersión con la varieble edad y el nivel de PSA en la sangre para identificar anomalias y así eliminarlas.\n",
        "También se le imputara la media en las variables nulas."
      ],
      "metadata": {
        "id": "Q6_jGX-76hpp"
      }
    },
    {
      "cell_type": "code",
      "source": [
        "df['EDAD'].fillna(63, inplace=True)"
      ],
      "metadata": {
        "id": "WJoJgwW1Ifes"
      },
      "execution_count": 662,
      "outputs": []
    },
    {
      "cell_type": "code",
      "source": [
        "plt.figure(figsize=(8, 6))  # Tamaño de la figura\n",
        "plt.scatter(df['EDAD'], df['PSA'], color='red', alpha=0.5)  # Crear la gráfica de dispersión\n",
        "plt.title('Gráfica de dispersión de EDAD vs. PSA')  # Título del gráfico\n",
        "plt.xlabel('EDAD')  # Etiqueta del eje x\n",
        "plt.ylabel('PSA')  # Etiqueta del eje y\n",
        "plt.grid(True)  # Mostrar cuadrícula\n",
        "plt.show()  # Mostrar gráfico"
      ],
      "metadata": {
        "colab": {
          "base_uri": "https://localhost:8080/",
          "height": 565
        },
        "id": "DQTQLdsU9fYZ",
        "outputId": "82b5135d-4042-4ab7-c50c-7a92f5f57ce1"
      },
      "execution_count": 663,
      "outputs": [
        {
          "output_type": "display_data",
          "data": {
            "text/plain": [
              "<Figure size 800x600 with 1 Axes>"
            ],
            "image/png": "[encoded data removed]"
          },
          "metadata": {}
        }
      ]
    },
    {
      "cell_type": "code",
      "source": [
        "df = df[df['EDAD'] <= 120]"
      ],
      "metadata": {
        "id": "2FPTiPV57Jyj"
      },
      "execution_count": 664,
      "outputs": []
    },
    {
      "cell_type": "markdown",
      "source": [
        "Se van a eliminar las columnas que no se consideran necesarias:\n",
        "\n",
        "\n",
        "*   El número de muestras ya que no explica que algún sintoma o enfermedad del paciente.\n",
        "*   El uso de cateteter urinario ya que no demuestra nada hacer el examén de esa forma\n",
        "\n"
      ],
      "metadata": {
        "id": "VzmwDJdX_fi2"
      }
    },
    {
      "cell_type": "code",
      "source": [
        "df = df.drop('NUMERO DE MUESTRAS TOMADAS', axis=1)\n",
        "df = df.drop('CUP', axis=1)"
      ],
      "metadata": {
        "id": "TbhgkD0s_jcM"
      },
      "execution_count": 665,
      "outputs": []
    },
    {
      "cell_type": "markdown",
      "source": [
        "Aquí se realizaran las converciones necesarias dicotomicas"
      ],
      "metadata": {
        "id": "NIcXwp5UhhNK"
      }
    },
    {
      "cell_type": "code",
      "source": [
        "diabetes_mapping = {\"SI\": 1, \"NO\": 0}\n",
        "\n",
        "df[\"DIABETES\"] = df[\"DIABETES\"].map(diabetes_mapping)"
      ],
      "metadata": {
        "id": "-X9uaKuohRCR"
      },
      "execution_count": 666,
      "outputs": []
    },
    {
      "cell_type": "code",
      "source": [
        "hospitalizacion_ultimo_mes_mapping = {\"SI\": 1, \"NO\": 0}\n",
        "\n",
        "df[\"HOSPITALIZACIÓN ULTIMO MES\"] = df[\"HOSPITALIZACIÓN ULTIMO MES\"].map(hospitalizacion_ultimo_mes_mapping)"
      ],
      "metadata": {
        "id": "3ucJLuEkig5O"
      },
      "execution_count": 667,
      "outputs": []
    },
    {
      "cell_type": "code",
      "source": [
        "biopsias_previas_mapping = {\"SI\": 1, \"NO\": 0}\n",
        "\n",
        "df[\"BIOPSIAS PREVIAS\"] = df[\"BIOPSIAS PREVIAS\"].map(biopsias_previas_mapping)"
      ],
      "metadata": {
        "id": "wvk623gRj9Jm"
      },
      "execution_count": 668,
      "outputs": []
    },
    {
      "cell_type": "code",
      "source": [
        "VOLUMEN_PROSTATICO_mapping = {\"SI\": 1, \"NO\": 0}\n",
        "\n",
        "df[\"VOLUMEN PROSTATICO\"] = df[\"VOLUMEN PROSTATICO\"].map(VOLUMEN_PROSTATICO_mapping)\n"
      ],
      "metadata": {
        "id": "557hbt_Wkf8U"
      },
      "execution_count": 669,
      "outputs": []
    },
    {
      "cell_type": "code",
      "source": [
        "fiebre_mapping = {\"SI\": 1, \"NO\": 0}\n",
        "\n",
        "df[\"FIEBRE\"] = df[\"FIEBRE\"].map(fiebre_mapping)"
      ],
      "metadata": {
        "id": "-MIu9KvArPw2"
      },
      "execution_count": 670,
      "outputs": []
    },
    {
      "cell_type": "code",
      "source": [
        "ITU_mapping = {\"SI\": 1, \"NO\": 0}\n",
        "\n",
        "df[\"ITU\"] = df[\"ITU\"].map(ITU_mapping)"
      ],
      "metadata": {
        "id": "vwwbrsuus_7X"
      },
      "execution_count": 671,
      "outputs": []
    },
    {
      "cell_type": "code",
      "source": [
        "HOSPITALIZACION_mapping = {\"SI\": 1, \"NO\": 0}\n",
        "\n",
        "df[\"HOSPITALIZACION\"] = df[\"HOSPITALIZACION\"].map(HOSPITALIZACION_mapping)"
      ],
      "metadata": {
        "id": "ku6nl5zXuBjO"
      },
      "execution_count": 672,
      "outputs": []
    },
    {
      "cell_type": "markdown",
      "source": [
        "De las siguientes variables se les inputara la media:\n",
        "\n",
        "\n",
        "*   A PSA se le imputo la media ya qué no se está tan alejada de la desviación estandar\n",
        "\n"
      ],
      "metadata": {
        "id": "Cd-ccik25W_-"
      }
    },
    {
      "cell_type": "code",
      "source": [
        "df['PSA'].fillna(13, inplace=True)"
      ],
      "metadata": {
        "id": "rJ72Tg6cJo40"
      },
      "execution_count": 673,
      "outputs": []
    },
    {
      "cell_type": "markdown",
      "source": [
        "Una vez convertidas las variables dicotomicas, imputaremos las variables necesarias"
      ],
      "metadata": {
        "id": "G5ohKC6M_HYr"
      }
    },
    {
      "cell_type": "code",
      "source": [
        "df['BIOPSIAS PREVIAS'].fillna(0, inplace=True)"
      ],
      "metadata": {
        "id": "pvh7BTwZ_PHd"
      },
      "execution_count": 674,
      "outputs": []
    },
    {
      "cell_type": "markdown",
      "source": [
        "Con esta linea de codigo vamos a agregar 1 en la variable objetivo cuando el paciente haya estado algún día hospitalizado, ya qué tiene una correlación.\n",
        "No es recomendable hacer cambios en la variable objetivo, pero en esta el cientifico de datos lo condera necesario"
      ],
      "metadata": {
        "id": "VA9559sk0NvU"
      }
    },
    {
      "cell_type": "code",
      "source": [
        "condicion = (df['DIAS HOSPITALIZACION MQ'] != 0) | (df['DIAS HOSPITALIZACIÓN UPC'] != 0)\n",
        "\n",
        "# Usamos la función .loc para acceder a las filas y columnas que cumplen con la condición y modificamos la columna 'HOSPITALIZACION'\n",
        "df.loc[condicion, 'HOSPITALIZACION'] = 1"
      ],
      "metadata": {
        "id": "boYnJ4vKzwYf"
      },
      "execution_count": 675,
      "outputs": []
    },
    {
      "cell_type": "markdown",
      "source": [
        "Eliminamos los nulos de la variable objetivo"
      ],
      "metadata": {
        "id": "F--L3zmBukMB"
      }
    },
    {
      "cell_type": "code",
      "source": [
        "df = df.dropna(subset=['HOSPITALIZACION'], how='any')"
      ],
      "metadata": {
        "id": "1Hd-tFIVwmr0"
      },
      "execution_count": 676,
      "outputs": []
    },
    {
      "cell_type": "markdown",
      "source": [
        "Se decidio eliminar el nulo de volumen prostatico ya que este tiene un varinza muy alta y es un solo registro"
      ],
      "metadata": {
        "id": "aruXlaMVBHYe"
      }
    },
    {
      "cell_type": "code",
      "source": [
        "df = df.dropna(subset=['VOLUMEN PROSTATICO'], how='any')"
      ],
      "metadata": {
        "id": "mV0eBXyVBrzx"
      },
      "execution_count": 677,
      "outputs": []
    },
    {
      "cell_type": "markdown",
      "source": [
        "Las variables categoricas que quedaron se transformaran en variables dummy"
      ],
      "metadata": {
        "id": "H4jJuFAk2ac8"
      }
    },
    {
      "cell_type": "code",
      "source": [
        "df = pd.get_dummies(df)"
      ],
      "metadata": {
        "id": "MD8lTWzx2kf1"
      },
      "execution_count": 678,
      "outputs": []
    },
    {
      "cell_type": "markdown",
      "source": [
        "KNN es un modelo de vecinos cercanos que es de aprendizaje supervisado que se usa para clasificación y regresión.\n",
        "Este modelo se basa en suposición de datos similares qué están cerca en él espacio de las caracteristicas para hacer la predicción.\n",
        "este modelo tiene hiperparametros: n_neighbors: En este se especifica el número de vecinos cercanos que se cosidera al realizar una predicción\n",
        "weights: En este se determina con los valores uniform que le da el mismo peso a los vecinos en la decisión y distance que los vecinos más cercamos tiene mayor influencia en la predicción."
      ],
      "metadata": {
        "id": "YIwTdDLkjaeM"
      }
    },
    {
      "cell_type": "markdown",
      "source": [
        "Vamos a separara el conjunto de entrenamiento y evaluación y coger los mejores parametros e hiperparametros"
      ],
      "metadata": {
        "id": "GXo21cb2Kchj"
      }
    },
    {
      "cell_type": "markdown",
      "source": [
        "En los parametos no sé escogieron los parametros que indican los diás de hospitalización ya que es una variable ligada a la variable objetivo"
      ],
      "metadata": {
        "id": "qQYo6hU0il4Q"
      }
    },
    {
      "cell_type": "code",
      "source": [
        "features = ['EDAD', 'DIABETES', 'HOSPITALIZACIÓN ULTIMO MES', 'PSA', 'BIOPSIAS PREVIAS','VOLUMEN PROSTATICO','FIEBRE','ITU',\n",
        "            'ANTIBIOTICO UTILIAZADO EN LA PROFILAXIS_CEFALOSPORINA_AMINOGLUCOCIDO',\n",
        "            'ANTIBIOTICO UTILIAZADO EN LA PROFILAXIS_FLUOROQUINOLONA_AMINOGLICOSIDO',\n",
        "            'ANTIBIOTICO UTILIAZADO EN LA PROFILAXIS_FLUOROQUINOLONA_AMINOGLICÓSIDO',\n",
        "            'ANTIBIOTICO UTILIAZADO EN LA PROFILAXIS_OROQUINOLONAS',\n",
        "            'ANTIBIOTICO UTILIAZADO EN LA PROFILAXIS_OTROS',\n",
        "            'ENF. CRONICA PULMONAR OBSTRUCTIVA_NO',\n",
        "            'ENF. CRONICA PULMONAR OBSTRUCTIVA_SI',\n",
        "            'ENF. CRONICA PULMONAR OBSTRUCTIVA_SI, ASMA',\n",
        "            'ENF. CRONICA PULMONAR OBSTRUCTIVA_SI, EPOC',\n",
        "            'BIOPSIA_ADENOCARCINOMA GLEASON 6',\n",
        "            'BIOPSIA_ADENOCARCINOMA GLEASON 6',\n",
        "            'BIOPSIA_ADENOCARCINOMA GLEASON 7',\n",
        "            'BIOPSIA_ADENOCARCINOMA GLEASON 7',\n",
        "            'BIOPSIA_CARCINOMA INDIFERENCIADO DE CELULAS CLARAS',\n",
        "            'BIOPSIA_HIPERPLASIA PROSTATICA',\n",
        "            'BIOPSIA_NEG',\n",
        "            'BIOPSIA_PROSTATITIS',\n",
        "            'NUMERO DE DIAS POST BIOPSIA EN QUE SE PRESENTA LA COMPLICACIÓN INFECCIOSA_1',\n",
        "            'NUMERO DE DIAS POST BIOPSIA EN QUE SE PRESENTA LA COMPLICACIÓN INFECCIOSA_2',\n",
        "            'NUMERO DE DIAS POST BIOPSIA EN QUE SE PRESENTA LA COMPLICACIÓN INFECCIOSA_3',\n",
        "            'NUMERO DE DIAS POST BIOPSIA EN QUE SE PRESENTA LA COMPLICACIÓN INFECCIOSA_5',\n",
        "            'NUMERO DE DIAS POST BIOPSIA EN QUE SE PRESENTA LA COMPLICACIÓN INFECCIOSA_9',\n",
        "            'NUMERO DE DIAS POST BIOPSIA EN QUE SE PRESENTA LA COMPLICACIÓN INFECCIOSA_NO',\n",
        "            'TIPO DE CULTIVO_HEMOCULTIVO',\n",
        "            'TIPO DE CULTIVO_HEMOCULTIVO Y UROCULTIVO',\n",
        "            'TIPO DE CULTIVO_NO',\n",
        "            'TIPO DE CULTIVO_UROCULTIVO',\n",
        "            'AGENTE AISLADO_E.COLI',\n",
        "            'AGENTE AISLADO_NO',\n",
        "            'AGENTE AISLADO_PSEUDOMONAS AERUGINOSA',\n",
        "            'PATRON DE RESISTENCIA_ AMPI R, CIPRO R, GENTA R, SULFA M R',\n",
        "            'PATRON DE RESISTENCIA_MULTI SENSIBLE',\n",
        "            'PATRON DE RESISTENCIA_NO',\n",
        "            'PATRON DE RESISTENCIA_RESISTENTE A AMPI, CIPRO Y GENTA',\n",
        "            'PATRON DE RESISTENCIA_RESISTENTE A AMPI, SULFA, CEFADROXILO, CEFUROXIMO, CIPRO Y CEFEPIME, CEFOTAXIMA']"
      ],
      "metadata": {
        "id": "EubrQsyWtQ7m"
      },
      "execution_count": 679,
      "outputs": []
    },
    {
      "cell_type": "code",
      "source": [
        "X = df[features]\n",
        "y = df.HOSPITALIZACION"
      ],
      "metadata": {
        "id": "-nupvLxBrIQT"
      },
      "execution_count": 680,
      "outputs": []
    },
    {
      "cell_type": "markdown",
      "source": [
        "Aquí se define la instancia de entrenamiento y evaluación en la base de datos"
      ],
      "metadata": {
        "id": "wnq88K3cV_GJ"
      }
    },
    {
      "cell_type": "code",
      "source": [
        "X_train, X_test, y_train, y_test = train_test_split(X, y, test_size=0.25, random_state=42)"
      ],
      "metadata": {
        "id": "7GeJSP1APSNZ"
      },
      "execution_count": 681,
      "outputs": []
    },
    {
      "cell_type": "markdown",
      "source": [
        "Aquí escalamos las caracteristicas del entrenamiento"
      ],
      "metadata": {
        "id": "PnWuIdTeWIBb"
      }
    },
    {
      "cell_type": "code",
      "source": [
        "scaler = StandardScaler()\n",
        "X_train_scaled = scaler.fit_transform(X_train)\n",
        "X_test_scaled = scaler.transform(X_test)"
      ],
      "metadata": {
        "id": "FqAadLCwPfDk"
      },
      "execution_count": 682,
      "outputs": []
    },
    {
      "cell_type": "markdown",
      "source": [
        "Creamos el clasificador"
      ],
      "metadata": {
        "id": "S6mJYhlAbjf-"
      }
    },
    {
      "cell_type": "code",
      "source": [
        "knn_classifier = KNeighborsClassifier()"
      ],
      "metadata": {
        "id": "1COKNBzpbl6I"
      },
      "execution_count": 683,
      "outputs": []
    },
    {
      "cell_type": "markdown",
      "source": [
        "Se escogiero como parametros"
      ],
      "metadata": {
        "id": "2Y1acOG9VRCp"
      }
    },
    {
      "cell_type": "code",
      "source": [
        "param_grid = {\n",
        "    'n_neighbors': [3, 5, 7, 9],\n",
        "    'weights': ['uniform', 'distance']\n",
        "}"
      ],
      "metadata": {
        "id": "_jiOAeYVVdz0"
      },
      "execution_count": 684,
      "outputs": []
    },
    {
      "cell_type": "markdown",
      "source": [
        "Aquí obtenemos los mejores hiperparametros"
      ],
      "metadata": {
        "id": "7iYkkuf8cKmL"
      }
    },
    {
      "cell_type": "code",
      "source": [
        "# Realizamos una búsqueda de cuadrícula con validación cruzada\n",
        "grid_search = GridSearchCV(knn_classifier, param_grid, cv=5, scoring='accuracy')\n",
        "grid_search.fit(X_train_scaled, y_train)\n",
        "\n",
        "# Obtenemos los mejores hiperparámetros\n",
        "best_params = grid_search.best_params_\n",
        "print(\"Mejores hiperparámetros:\", best_params)\n",
        "\n"
      ],
      "metadata": {
        "colab": {
          "base_uri": "https://localhost:8080/"
        },
        "id": "tSTTzD1tYOAO",
        "outputId": "1aae939f-ae73-47ec-b2b4-01f31cd9fcb4"
      },
      "execution_count": 685,
      "outputs": [
        {
          "output_type": "stream",
          "name": "stdout",
          "text": [
            "Mejores hiperparámetros: {'n_neighbors': 3, 'weights': 'distance'}\n"
          ]
        }
      ]
    },
    {
      "cell_type": "markdown",
      "source": [
        "Representa el número de vecinos más cercanos que se utilizarán para realizar una predicción o clasificación para un nuevo punto de datos. Es un hiperparámetro crucial en el algoritmo KNN y tiene un impacto significativo en cómo se hace la predicción.\n",
        "Si la k=5 va a usar los 5 vecinos más cercanos\n",
        "Y el hiperparametro distance hace que los más cercanos tienen mayor peso en la predicción"
      ],
      "metadata": {
        "id": "rC1GLBckWTsv"
      }
    },
    {
      "cell_type": "code",
      "source": [
        "k = 3\n",
        "knn_classifier = KNeighborsClassifier(n_neighbors=k, weights='distance')"
      ],
      "metadata": {
        "id": "jnKEAfNyPj1m"
      },
      "execution_count": 686,
      "outputs": []
    },
    {
      "cell_type": "markdown",
      "source": [
        "Este es el entrenamiento del modelo"
      ],
      "metadata": {
        "id": "O1Uh7O7Vhl9b"
      }
    },
    {
      "cell_type": "code",
      "source": [
        "knn_classifier.fit(X_train_scaled, y_train)"
      ],
      "metadata": {
        "colab": {
          "base_uri": "https://localhost:8080/",
          "height": 74
        },
        "id": "Cy96jud0PnSc",
        "outputId": "02839562-d439-4236-ad93-81b15902be07"
      },
      "execution_count": 687,
      "outputs": [
        {
          "output_type": "execute_result",
          "data": {
            "text/plain": [
              "KNeighborsClassifier(n_neighbors=3, weights='distance')"
            ],
            "text/html": [
              "<style>#sk-container-id-14 {color: black;background-color: white;}#sk-container-id-14 pre{padding: 0;}#sk-container-id-14 div.sk-toggleable {background-color: white;}#sk-container-id-14 label.sk-toggleable__label {cursor: pointer;display: block;width: 100%;margin-bottom: 0;padding: 0.3em;box-sizing: border-box;text-align: center;}#sk-container-id-14 label.sk-toggleable__label-arrow:before {content: \"▸\";float: left;margin-right: 0.25em;color: #696969;}#sk-container-id-14 label.sk-toggleable__label-arrow:hover:before {color: black;}#sk-container-id-14 div.sk-estimator:hover label.sk-toggleable__label-arrow:before {color: black;}#sk-container-id-14 div.sk-toggleable__content {max-height: 0;max-width: 0;overflow: hidden;text-align: left;background-color: #f0f8ff;}#sk-container-id-14 div.sk-toggleable__content pre {margin: 0.2em;color: black;border-radius: 0.25em;background-color: #f0f8ff;}#sk-container-id-14 input.sk-toggleable__control:checked~div.sk-toggleable__content {max-height: 200px;max-width: 100%;overflow: auto;}#sk-container-id-14 input.sk-toggleable__control:checked~label.sk-toggleable__label-arrow:before {content: \"▾\";}#sk-container-id-14 div.sk-estimator input.sk-toggleable__control:checked~label.sk-toggleable__label {background-color: #d4ebff;}#sk-container-id-14 div.sk-label input.sk-toggleable__control:checked~label.sk-toggleable__label {background-color: #d4ebff;}#sk-container-id-14 input.sk-hidden--visually {border: 0;clip: rect(1px 1px 1px 1px);clip: rect(1px, 1px, 1px, 1px);height: 1px;margin: -1px;overflow: hidden;padding: 0;position: absolute;width: 1px;}#sk-container-id-14 div.sk-estimator {font-family: monospace;background-color: #f0f8ff;border: 1px dotted black;border-radius: 0.25em;box-sizing: border-box;margin-bottom: 0.5em;}#sk-container-id-14 div.sk-estimator:hover {background-color: #d4ebff;}#sk-container-id-14 div.sk-parallel-item::after {content: \"\";width: 100%;border-bottom: 1px solid gray;flex-grow: 1;}#sk-container-id-14 div.sk-label:hover label.sk-toggleable__label {background-color: #d4ebff;}#sk-container-id-14 div.sk-serial::before {content: \"\";position: absolute;border-left: 1px solid gray;box-sizing: border-box;top: 0;bottom: 0;left: 50%;z-index: 0;}#sk-container-id-14 div.sk-serial {display: flex;flex-direction: column;align-items: center;background-color: white;padding-right: 0.2em;padding-left: 0.2em;position: relative;}#sk-container-id-14 div.sk-item {position: relative;z-index: 1;}#sk-container-id-14 div.sk-parallel {display: flex;align-items: stretch;justify-content: center;background-color: white;position: relative;}#sk-container-id-14 div.sk-item::before, #sk-container-id-14 div.sk-parallel-item::before {content: \"\";position: absolute;border-left: 1px solid gray;box-sizing: border-box;top: 0;bottom: 0;left: 50%;z-index: -1;}#sk-container-id-14 div.sk-parallel-item {display: flex;flex-direction: column;z-index: 1;position: relative;background-color: white;}#sk-container-id-14 div.sk-parallel-item:first-child::after {align-self: flex-end;width: 50%;}#sk-container-id-14 div.sk-parallel-item:last-child::after {align-self: flex-start;width: 50%;}#sk-container-id-14 div.sk-parallel-item:only-child::after {width: 0;}#sk-container-id-14 div.sk-dashed-wrapped {border: 1px dashed gray;margin: 0 0.4em 0.5em 0.4em;box-sizing: border-box;padding-bottom: 0.4em;background-color: white;}#sk-container-id-14 div.sk-label label {font-family: monospace;font-weight: bold;display: inline-block;line-height: 1.2em;}#sk-container-id-14 div.sk-label-container {text-align: center;}#sk-container-id-14 div.sk-container {/* jupyter's `normalize.less` sets `[hidden] { display: none; }` but bootstrap.min.css set `[hidden] { display: none !important; }` so we also need the `!important` here to be able to override the default hidden behavior on the sphinx rendered scikit-learn.org. See: https://github.com/scikit-learn/scikit-learn/issues/21755 */display: inline-block !important;position: relative;}#sk-container-id-14 div.sk-text-repr-fallback {display: none;}</style><div id=\"sk-container-id-14\" class=\"sk-top-container\"><div class=\"sk-text-repr-fallback\"><pre>KNeighborsClassifier(n_neighbors=3, weights=&#x27;distance&#x27;)</pre><b>In a Jupyter environment, please rerun this cell to show the HTML representation or trust the notebook. <br />On GitHub, the HTML representation is unable to render, please try loading this page with nbviewer.org.</b></div><div class=\"sk-container\" hidden><div class=\"sk-item\"><div class=\"sk-estimator sk-toggleable\"><input class=\"sk-toggleable__control sk-hidden--visually\" id=\"sk-estimator-id-14\" type=\"checkbox\" checked><label for=\"sk-estimator-id-14\" class=\"sk-toggleable__label sk-toggleable__label-arrow\">KNeighborsClassifier</label><div class=\"sk-toggleable__content\"><pre>KNeighborsClassifier(n_neighbors=3, weights=&#x27;distance&#x27;)</pre></div></div></div></div></div>"
            ]
          },
          "metadata": {},
          "execution_count": 687
        }
      ]
    },
    {
      "cell_type": "markdown",
      "source": [
        "Aquí se realiza la predicción en él conjunto de prueba"
      ],
      "metadata": {
        "id": "4yyquZpYh_RL"
      }
    },
    {
      "cell_type": "code",
      "source": [
        "y_pred = knn_classifier.predict(X_test_scaled)"
      ],
      "metadata": {
        "id": "IKdEvaMaPsGU"
      },
      "execution_count": 688,
      "outputs": []
    },
    {
      "cell_type": "markdown",
      "source": [
        "Aquí calculamos la precisión del modelo"
      ],
      "metadata": {
        "id": "b0MXt64xiOO4"
      }
    },
    {
      "cell_type": "code",
      "source": [
        "accuracy = accuracy_score(y_test, y_pred)\n",
        "print(\"Precisión del modelo KNN:\", accuracy)"
      ],
      "metadata": {
        "colab": {
          "base_uri": "https://localhost:8080/"
        },
        "id": "_aGzZJ63PvWx",
        "outputId": "a98cc9b3-13f6-4cb7-ad24-e17ea6b2a60f"
      },
      "execution_count": 689,
      "outputs": [
        {
          "output_type": "stream",
          "name": "stdout",
          "text": [
            "Precisión del modelo KNN: 1.0\n"
          ]
        }
      ]
    },
    {
      "cell_type": "markdown",
      "source": [
        "Se realiza una matriz de confusión para conocer como se prevee con los datos de evaluación"
      ],
      "metadata": {
        "id": "vPyW-qz5iSk_"
      }
    },
    {
      "cell_type": "code",
      "source": [
        "from sklearn.metrics import confusion_matrix\n",
        "import seaborn as sns\n",
        "import matplotlib.pyplot as plt\n",
        "\n",
        "# Calcular la matriz de confusión\n",
        "conf_matrix = confusion_matrix(y_test, y_pred)\n",
        "\n",
        "# Visualizar la matriz de confusión usando seaborn\n",
        "plt.figure(figsize=(8, 6))\n",
        "sns.heatmap(conf_matrix, annot=True, fmt='d', cmap='Blues', cbar=False,\n",
        "            xticklabels=['Clase 0', 'Clase 1'], yticklabels=['Clase 0', 'Clase 1'])\n",
        "plt.xlabel('Predicción')\n",
        "plt.ylabel('Valor real')\n",
        "plt.title('Matriz de Confusión')\n",
        "plt.show()"
      ],
      "metadata": {
        "colab": {
          "base_uri": "https://localhost:8080/",
          "height": 564
        },
        "id": "5TwlyvllgWke",
        "outputId": "d3059d16-b143-47f2-da2d-1204a2762074"
      },
      "execution_count": 690,
      "outputs": [
        {
          "output_type": "display_data",
          "data": {
            "text/plain": [
              "<Figure size 800x600 with 1 Axes>"
            ],
            "image/png": "[encoded data removed]"
          },
          "metadata": {}
        }
      ]
    }
  ]
}